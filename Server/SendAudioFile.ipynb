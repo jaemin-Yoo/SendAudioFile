{
 "cells": [
  {
   "cell_type": "markdown",
   "id": "92ae2420",
   "metadata": {},
   "source": [
    "# Project: SendAudioFile (Server)\n",
    "\n",
    "## 1. import"
   ]
  },
  {
   "cell_type": "code",
   "execution_count": 1,
   "id": "67884229",
   "metadata": {},
   "outputs": [],
   "source": [
    "import socket\n",
    "import _thread"
   ]
  },
  {
   "cell_type": "markdown",
   "id": "ef4b3f1f",
   "metadata": {},
   "source": [
    "## 2. 다중 클라이언트 연결을 위한 스레드 함수 선언"
   ]
  },
  {
   "cell_type": "code",
   "execution_count": 2,
   "id": "87189408",
   "metadata": {},
   "outputs": [],
   "source": [
    "def threaded(conn, addr, group):\n",
    "    print('Connect by',addr)\n",
    "    while True:\n",
    "        try:\n",
    "            data = conn.recv(1024) # 파일명, 사이즈 수신\n",
    "            if not data: # 소켓 연결 끊기면 연결 해제\n",
    "                print('Disconnected by',addr)\n",
    "                group.remove(conn)\n",
    "                break\n",
    "\n",
    "            file_info = data.decode()\n",
    "            file_name, file_size = file_info.split(\"/\")\n",
    "            print('Receive File Path:',file_name)\n",
    "            print('Receive File Size:',file_size)\n",
    "\n",
    "            data = conn.recv(1024) # 파일 수신\n",
    "            data_transferred = len(data)\n",
    "            with open(file_name, \"wb\") as f:\n",
    "                try:\n",
    "                    while data:\n",
    "                        f.write(data)\n",
    "                        data = conn.recv(1024)\n",
    "                        data_transferred += len(data)\n",
    "                        \n",
    "                        if data_transferred == int(file_size): # 파일 다 받으면 break\n",
    "                            f.write(data)\n",
    "                            break\n",
    "                except Exception as ex:\n",
    "                    print(ex)\n",
    "\n",
    "            print(\"File is saved [byte:\"+str(data_transferred)+\"]\")\n",
    "            \n",
    "            sendData = \"완료\\n\"\n",
    "            for c in group:\n",
    "                if c is conn:\n",
    "                    c.sendall(bytes(sendData,'UTF-8')) # 수신된 파일을 보낸 Client에게만 전송\n",
    "                    print('Send Data : '+sendData,end=\"\")\n",
    "        except:\n",
    "            # 클라이언트 소켓 강제 종료 시 (ex : 네트워크 변경)\n",
    "            print('예외발생')\n",
    "            print('Disconnected by',addr)\n",
    "            group.remove(conn)\n",
    "            break\n",
    "    conn.close()"
   ]
  },
  {
   "cell_type": "markdown",
   "id": "002c1279",
   "metadata": {},
   "source": [
    "## 3. 소켓 생성"
   ]
  },
  {
   "cell_type": "code",
   "execution_count": 3,
   "id": "043259e5",
   "metadata": {},
   "outputs": [
    {
     "name": "stdout",
     "output_type": "stream",
     "text": [
      "Listening\n"
     ]
    }
   ],
   "source": [
    "host = ''\n",
    "port = 50000\n",
    "\n",
    "server_socket = socket.socket(socket.AF_INET, socket.SOCK_STREAM)\n",
    "server_socket.setsockopt(socket.SOL_SOCKET, socket.SO_REUSEADDR, 1)\n",
    "server_socket.bind((host, port))\n",
    "server_socket.listen()\n",
    "print(\"Listening\")"
   ]
  },
  {
   "cell_type": "markdown",
   "id": "b9fcd643",
   "metadata": {},
   "source": [
    "## 4. 소켓 연결 대기"
   ]
  },
  {
   "cell_type": "code",
   "execution_count": null,
   "id": "da0eab15",
   "metadata": {},
   "outputs": [],
   "source": [
    "group = []\n",
    "while True:\n",
    "    conn, addr = server_socket.accept()\n",
    "    group.append(conn)\n",
    "    _thread.start_new_thread(threaded, (conn, addr, group))\n",
    "    \n",
    "server_socket.close()\n",
    "print('서버 종료')"
   ]
  }
 ],
 "metadata": {
  "kernelspec": {
   "display_name": "Python 3 (ipykernel)",
   "language": "python",
   "name": "python3"
  },
  "language_info": {
   "codemirror_mode": {
    "name": "ipython",
    "version": 3
   },
   "file_extension": ".py",
   "mimetype": "text/x-python",
   "name": "python",
   "nbconvert_exporter": "python",
   "pygments_lexer": "ipython3",
   "version": "3.8.5"
  }
 },
 "nbformat": 4,
 "nbformat_minor": 5
}
